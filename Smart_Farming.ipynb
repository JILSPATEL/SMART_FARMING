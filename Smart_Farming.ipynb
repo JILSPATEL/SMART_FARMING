{
 "cells": [
  {
   "cell_type": "code",
   "execution_count": 19,
   "id": "fedd286c",
   "metadata": {},
   "outputs": [],
   "source": [
    "import numpy as np # for complex mathematical operation\n",
    "import pandas as pd # for data frame manipulation\n",
    "\n",
    "#for data visualisation\n",
    "import matplotlib.pyplot as plt # for creating data visulization\n",
    "import seaborn as sb #for creating data visulization\n",
    "\n",
    "#for interactivity\n",
    "from ipywidgets import interact # for interactive analysis & also helps in interacting with python\n",
    "\n",
    "import warnings\n",
    "warnings.filterwarnings('ignore')"
   ]
  },
  {
   "cell_type": "code",
   "execution_count": 2,
   "id": "103ae79d",
   "metadata": {},
   "outputs": [],
   "source": [
    "df=pd.read_csv('crop.csv')"
   ]
  },
  {
   "cell_type": "code",
   "execution_count": 4,
   "id": "41a537e5",
   "metadata": {},
   "outputs": [
    {
     "data": {
      "text/plain": [
       "(2200, 8)"
      ]
     },
     "execution_count": 4,
     "metadata": {},
     "output_type": "execute_result"
    }
   ],
   "source": [
    "df.shape"
   ]
  },
  {
   "cell_type": "code",
   "execution_count": 5,
   "id": "18e3b475",
   "metadata": {},
   "outputs": [
    {
     "data": {
      "text/html": [
       "<div>\n",
       "<style scoped>\n",
       "    .dataframe tbody tr th:only-of-type {\n",
       "        vertical-align: middle;\n",
       "    }\n",
       "\n",
       "    .dataframe tbody tr th {\n",
       "        vertical-align: top;\n",
       "    }\n",
       "\n",
       "    .dataframe thead th {\n",
       "        text-align: right;\n",
       "    }\n",
       "</style>\n",
       "<table border=\"1\" class=\"dataframe\">\n",
       "  <thead>\n",
       "    <tr style=\"text-align: right;\">\n",
       "      <th></th>\n",
       "      <th>N</th>\n",
       "      <th>P</th>\n",
       "      <th>K</th>\n",
       "      <th>temperature</th>\n",
       "      <th>humidity</th>\n",
       "      <th>ph</th>\n",
       "      <th>rainfall</th>\n",
       "      <th>label</th>\n",
       "    </tr>\n",
       "  </thead>\n",
       "  <tbody>\n",
       "    <tr>\n",
       "      <th>0</th>\n",
       "      <td>90</td>\n",
       "      <td>42</td>\n",
       "      <td>43</td>\n",
       "      <td>20.879744</td>\n",
       "      <td>82.002744</td>\n",
       "      <td>6.502985</td>\n",
       "      <td>202.935536</td>\n",
       "      <td>rice</td>\n",
       "    </tr>\n",
       "    <tr>\n",
       "      <th>1</th>\n",
       "      <td>85</td>\n",
       "      <td>58</td>\n",
       "      <td>41</td>\n",
       "      <td>21.770462</td>\n",
       "      <td>80.319644</td>\n",
       "      <td>7.038096</td>\n",
       "      <td>226.655537</td>\n",
       "      <td>rice</td>\n",
       "    </tr>\n",
       "    <tr>\n",
       "      <th>2</th>\n",
       "      <td>60</td>\n",
       "      <td>55</td>\n",
       "      <td>44</td>\n",
       "      <td>23.004459</td>\n",
       "      <td>82.320763</td>\n",
       "      <td>7.840207</td>\n",
       "      <td>263.964248</td>\n",
       "      <td>rice</td>\n",
       "    </tr>\n",
       "    <tr>\n",
       "      <th>3</th>\n",
       "      <td>74</td>\n",
       "      <td>35</td>\n",
       "      <td>40</td>\n",
       "      <td>26.491096</td>\n",
       "      <td>80.158363</td>\n",
       "      <td>6.980401</td>\n",
       "      <td>242.864034</td>\n",
       "      <td>rice</td>\n",
       "    </tr>\n",
       "    <tr>\n",
       "      <th>4</th>\n",
       "      <td>78</td>\n",
       "      <td>42</td>\n",
       "      <td>42</td>\n",
       "      <td>20.130175</td>\n",
       "      <td>81.604873</td>\n",
       "      <td>7.628473</td>\n",
       "      <td>262.717340</td>\n",
       "      <td>rice</td>\n",
       "    </tr>\n",
       "  </tbody>\n",
       "</table>\n",
       "</div>"
      ],
      "text/plain": [
       "    N   P   K  temperature   humidity        ph    rainfall label\n",
       "0  90  42  43    20.879744  82.002744  6.502985  202.935536  rice\n",
       "1  85  58  41    21.770462  80.319644  7.038096  226.655537  rice\n",
       "2  60  55  44    23.004459  82.320763  7.840207  263.964248  rice\n",
       "3  74  35  40    26.491096  80.158363  6.980401  242.864034  rice\n",
       "4  78  42  42    20.130175  81.604873  7.628473  262.717340  rice"
      ]
     },
     "execution_count": 5,
     "metadata": {},
     "output_type": "execute_result"
    }
   ],
   "source": [
    "df.head()"
   ]
  },
  {
   "cell_type": "code",
   "execution_count": 6,
   "id": "4d82855d",
   "metadata": {},
   "outputs": [
    {
     "name": "stdout",
     "output_type": "stream",
     "text": [
      "<class 'pandas.core.frame.DataFrame'>\n",
      "RangeIndex: 2200 entries, 0 to 2199\n",
      "Data columns (total 8 columns):\n",
      " #   Column       Non-Null Count  Dtype  \n",
      "---  ------       --------------  -----  \n",
      " 0   N            2200 non-null   int64  \n",
      " 1   P            2200 non-null   int64  \n",
      " 2   K            2200 non-null   int64  \n",
      " 3   temperature  2200 non-null   float64\n",
      " 4   humidity     2200 non-null   float64\n",
      " 5   ph           2200 non-null   float64\n",
      " 6   rainfall     2200 non-null   float64\n",
      " 7   label        2200 non-null   object \n",
      "dtypes: float64(4), int64(3), object(1)\n",
      "memory usage: 137.6+ KB\n"
     ]
    }
   ],
   "source": [
    "df.info()"
   ]
  },
  {
   "cell_type": "code",
   "execution_count": 7,
   "id": "6654020a",
   "metadata": {},
   "outputs": [
    {
     "data": {
      "text/html": [
       "<div>\n",
       "<style scoped>\n",
       "    .dataframe tbody tr th:only-of-type {\n",
       "        vertical-align: middle;\n",
       "    }\n",
       "\n",
       "    .dataframe tbody tr th {\n",
       "        vertical-align: top;\n",
       "    }\n",
       "\n",
       "    .dataframe thead th {\n",
       "        text-align: right;\n",
       "    }\n",
       "</style>\n",
       "<table border=\"1\" class=\"dataframe\">\n",
       "  <thead>\n",
       "    <tr style=\"text-align: right;\">\n",
       "      <th></th>\n",
       "      <th>N</th>\n",
       "      <th>P</th>\n",
       "      <th>K</th>\n",
       "      <th>temperature</th>\n",
       "      <th>humidity</th>\n",
       "      <th>ph</th>\n",
       "      <th>rainfall</th>\n",
       "    </tr>\n",
       "  </thead>\n",
       "  <tbody>\n",
       "    <tr>\n",
       "      <th>count</th>\n",
       "      <td>2200.000000</td>\n",
       "      <td>2200.000000</td>\n",
       "      <td>2200.000000</td>\n",
       "      <td>2200.000000</td>\n",
       "      <td>2200.000000</td>\n",
       "      <td>2200.000000</td>\n",
       "      <td>2200.000000</td>\n",
       "    </tr>\n",
       "    <tr>\n",
       "      <th>mean</th>\n",
       "      <td>50.551818</td>\n",
       "      <td>53.362727</td>\n",
       "      <td>48.149091</td>\n",
       "      <td>25.616244</td>\n",
       "      <td>71.481779</td>\n",
       "      <td>6.469480</td>\n",
       "      <td>103.463655</td>\n",
       "    </tr>\n",
       "    <tr>\n",
       "      <th>std</th>\n",
       "      <td>36.917334</td>\n",
       "      <td>32.985883</td>\n",
       "      <td>50.647931</td>\n",
       "      <td>5.063749</td>\n",
       "      <td>22.263812</td>\n",
       "      <td>0.773938</td>\n",
       "      <td>54.958389</td>\n",
       "    </tr>\n",
       "    <tr>\n",
       "      <th>min</th>\n",
       "      <td>0.000000</td>\n",
       "      <td>5.000000</td>\n",
       "      <td>5.000000</td>\n",
       "      <td>8.825675</td>\n",
       "      <td>14.258040</td>\n",
       "      <td>3.504752</td>\n",
       "      <td>20.211267</td>\n",
       "    </tr>\n",
       "    <tr>\n",
       "      <th>25%</th>\n",
       "      <td>21.000000</td>\n",
       "      <td>28.000000</td>\n",
       "      <td>20.000000</td>\n",
       "      <td>22.769375</td>\n",
       "      <td>60.261953</td>\n",
       "      <td>5.971693</td>\n",
       "      <td>64.551686</td>\n",
       "    </tr>\n",
       "    <tr>\n",
       "      <th>50%</th>\n",
       "      <td>37.000000</td>\n",
       "      <td>51.000000</td>\n",
       "      <td>32.000000</td>\n",
       "      <td>25.598693</td>\n",
       "      <td>80.473146</td>\n",
       "      <td>6.425045</td>\n",
       "      <td>94.867624</td>\n",
       "    </tr>\n",
       "    <tr>\n",
       "      <th>75%</th>\n",
       "      <td>84.250000</td>\n",
       "      <td>68.000000</td>\n",
       "      <td>49.000000</td>\n",
       "      <td>28.561654</td>\n",
       "      <td>89.948771</td>\n",
       "      <td>6.923643</td>\n",
       "      <td>124.267508</td>\n",
       "    </tr>\n",
       "    <tr>\n",
       "      <th>max</th>\n",
       "      <td>140.000000</td>\n",
       "      <td>145.000000</td>\n",
       "      <td>205.000000</td>\n",
       "      <td>43.675493</td>\n",
       "      <td>99.981876</td>\n",
       "      <td>9.935091</td>\n",
       "      <td>298.560117</td>\n",
       "    </tr>\n",
       "  </tbody>\n",
       "</table>\n",
       "</div>"
      ],
      "text/plain": [
       "                 N            P            K  temperature     humidity  \\\n",
       "count  2200.000000  2200.000000  2200.000000  2200.000000  2200.000000   \n",
       "mean     50.551818    53.362727    48.149091    25.616244    71.481779   \n",
       "std      36.917334    32.985883    50.647931     5.063749    22.263812   \n",
       "min       0.000000     5.000000     5.000000     8.825675    14.258040   \n",
       "25%      21.000000    28.000000    20.000000    22.769375    60.261953   \n",
       "50%      37.000000    51.000000    32.000000    25.598693    80.473146   \n",
       "75%      84.250000    68.000000    49.000000    28.561654    89.948771   \n",
       "max     140.000000   145.000000   205.000000    43.675493    99.981876   \n",
       "\n",
       "                ph     rainfall  \n",
       "count  2200.000000  2200.000000  \n",
       "mean      6.469480   103.463655  \n",
       "std       0.773938    54.958389  \n",
       "min       3.504752    20.211267  \n",
       "25%       5.971693    64.551686  \n",
       "50%       6.425045    94.867624  \n",
       "75%       6.923643   124.267508  \n",
       "max       9.935091   298.560117  "
      ]
     },
     "execution_count": 7,
     "metadata": {},
     "output_type": "execute_result"
    }
   ],
   "source": [
    "df.describe()"
   ]
  },
  {
   "cell_type": "markdown",
   "id": "f44e4df9",
   "metadata": {},
   "source": [
    "## check a missing/null value "
   ]
  },
  {
   "cell_type": "code",
   "execution_count": 8,
   "id": "797d3c76",
   "metadata": {},
   "outputs": [
    {
     "data": {
      "text/plain": [
       "N              0\n",
       "P              0\n",
       "K              0\n",
       "temperature    0\n",
       "humidity       0\n",
       "ph             0\n",
       "rainfall       0\n",
       "label          0\n",
       "dtype: int64"
      ]
     },
     "execution_count": 8,
     "metadata": {},
     "output_type": "execute_result"
    }
   ],
   "source": [
    "df.isnull().sum()"
   ]
  },
  {
   "cell_type": "markdown",
   "id": "783363d4",
   "metadata": {},
   "source": [
    "## check the unique value"
   ]
  },
  {
   "cell_type": "code",
   "execution_count": 9,
   "id": "b0a955ea",
   "metadata": {},
   "outputs": [
    {
     "data": {
      "text/plain": [
       "rice           100\n",
       "maize          100\n",
       "jute           100\n",
       "cotton         100\n",
       "coconut        100\n",
       "papaya         100\n",
       "orange         100\n",
       "apple          100\n",
       "muskmelon      100\n",
       "watermelon     100\n",
       "grapes         100\n",
       "mango          100\n",
       "banana         100\n",
       "pomegranate    100\n",
       "lentil         100\n",
       "blackgram      100\n",
       "mungbean       100\n",
       "mothbeans      100\n",
       "pigeonpeas     100\n",
       "kidneybeans    100\n",
       "chickpea       100\n",
       "coffee         100\n",
       "Name: label, dtype: int64"
      ]
     },
     "execution_count": 9,
     "metadata": {},
     "output_type": "execute_result"
    }
   ],
   "source": [
    "df['label'].value_counts()"
   ]
  },
  {
   "cell_type": "code",
   "execution_count": 10,
   "id": "75a03dce",
   "metadata": {},
   "outputs": [
    {
     "name": "stdout",
     "output_type": "stream",
     "text": [
      "Average Ratio of Nitrogen in the soil : 50.55\n",
      "Average Ratio of Phosphorous in the soil : 53.36\n",
      "Average Ratio of Potassium in the soil : 48.15\n",
      "Average Temperature in celsius : 25.62\n",
      "Average Humidity in the soil : 71.48\n",
      "Average Ph_scale in the soil : 6.47\n",
      "Average Rain_fall in the soil : 103.46\n"
     ]
    }
   ],
   "source": [
    "print(\"Average Ratio of Nitrogen in the soil : {0:.2f}\".format(df['N'].mean()))\n",
    "print(\"Average Ratio of Phosphorous in the soil : {0:.2f}\".format(df['P'].mean()))\n",
    "print(\"Average Ratio of Potassium in the soil : {0:.2f}\".format(df['K'].mean()))\n",
    "print(\"Average Temperature in celsius : {0:.2f}\".format(df['temperature'].mean()))\n",
    "print(\"Average Humidity in the soil : {0:.2f}\".format(df['humidity'].mean()))\n",
    "print(\"Average Ph_scale in the soil : {0:.2f}\".format(df['ph'].mean()))\n",
    "print(\"Average Rain_fall in the soil : {0:.2f}\".format(df['rainfall'].mean()))"
   ]
  },
  {
   "cell_type": "code",
   "execution_count": 12,
   "id": "a9e0e508",
   "metadata": {},
   "outputs": [
    {
     "data": {
      "application/vnd.jupyter.widget-view+json": {
       "model_id": "075f163d5e174e7780d597f3792a2e8c",
       "version_major": 2,
       "version_minor": 0
      },
      "text/plain": [
       "interactive(children=(Dropdown(description='crops', options=('rice', 'maize', 'jute', 'cotton', 'coconut', 'pa…"
      ]
     },
     "metadata": {},
     "output_type": "display_data"
    }
   ],
   "source": [
    "@interact #for dropdodwn box\n",
    "def summary(crops=list(df['label'].value_counts().index)):\n",
    "    x=df[df['label'] == crops]\n",
    "    print(\"------------------------------------------------\")\n",
    "    print(\"Statistics for Nitrogen\")\n",
    "    print(\"Minimum Nitrogen required:\", x['N'].min())\n",
    "    print(\"Average Nitrogen required:\", x['N'].mean())\n",
    "    print(\"Maximum Nitrogen required:\", x['N'].max())\n",
    "    print(\"------------------------------------------------\")\n",
    "    print(\"Statistics for Phosphorous\")\n",
    "    print(\"Minimum Phosphorous required:\", x['P'].min())\n",
    "    print(\"Average Phosphorous required:\",x['P'].mean())\n",
    "    print(\"Maximum Phosphorous required:\",x['P'].max())\n",
    "    print(\"------------------------------------------------\")\n",
    "    print(\"Statistics for Potassium\")\n",
    "    print(\"Minimum Potassium required:\",x['K'].min())\n",
    "    print(\"Average Potassium required:\",x['K'].mean())\n",
    "    print(\"Maximum Potassium required:\",x['K'].max())\n",
    "    print(\"------------------------------------------------\")\n",
    "    print(\"Statistics for Temperature\")\n",
    "    print(\"Minimum Temperature required:{0:.2f}\".format(x['temperature'].min()))\n",
    "    print(\"Average Temperature required:{0:.2f}\".format(x['temperature'].mean()))\n",
    "    print(\"Maximum Temperature required:{0:.2f}\".format(x['temperature'].max()))\n",
    "    print(\"------------------------------------------------\")\n",
    "    print(\"Statistics for Humidity\")\n",
    "    print(\"Minimum Humidity required:{0:.2f}\".format(x['humidity'].min()))\n",
    "    print(\"Average Humidity required:{0:.2f}\".format(x['humidity'].mean()))\n",
    "    print(\"Maximum Humidity required:{0:.2f}\".format(x['humidity'].max()))\n",
    "    print(\"------------------------------------------------\")\n",
    "    print(\"Statistics for Phscale\")\n",
    "    print(\"Minimum Phscale required:{0:.2f}\".format(x['ph'].min()))\n",
    "    print(\"Average Phscale required:{0:.2f}\".format(x['ph'].mean()))\n",
    "    print(\"Maximum Phscale require:{0:.2f}\".format(x['ph'].max()))\n",
    "    print(\"------------------------------------------------\")\n",
    "    print(\"Statistics for Rainfall\")\n",
    "    print(\"Minimum Rainfall required:{0:.2f}\".format(x['rainfall'].min()))\n",
    "    print(\"Average Rainfall required:{0:.2f}\".format(x['rainfall'].mean()))\n",
    "    print(\"Maximum Rainfall required:{0:.2f}\".format(x['rainfall'].max()))"
   ]
  },
  {
   "cell_type": "code",
   "execution_count": 14,
   "id": "50a0511e",
   "metadata": {},
   "outputs": [],
   "source": [
    "\n",
    "df.rename(columns={'N':'Nitrogen','P':'Phosphorous','K':'Potassium'},inplace=True)"
   ]
  },
  {
   "cell_type": "code",
   "execution_count": 15,
   "id": "f4125bf6",
   "metadata": {},
   "outputs": [
    {
     "data": {
      "text/html": [
       "<div>\n",
       "<style scoped>\n",
       "    .dataframe tbody tr th:only-of-type {\n",
       "        vertical-align: middle;\n",
       "    }\n",
       "\n",
       "    .dataframe tbody tr th {\n",
       "        vertical-align: top;\n",
       "    }\n",
       "\n",
       "    .dataframe thead th {\n",
       "        text-align: right;\n",
       "    }\n",
       "</style>\n",
       "<table border=\"1\" class=\"dataframe\">\n",
       "  <thead>\n",
       "    <tr style=\"text-align: right;\">\n",
       "      <th></th>\n",
       "      <th>Nitrogen</th>\n",
       "      <th>Phosphorous</th>\n",
       "      <th>Potassium</th>\n",
       "      <th>temperature</th>\n",
       "      <th>humidity</th>\n",
       "      <th>ph</th>\n",
       "      <th>rainfall</th>\n",
       "      <th>label</th>\n",
       "    </tr>\n",
       "  </thead>\n",
       "  <tbody>\n",
       "    <tr>\n",
       "      <th>0</th>\n",
       "      <td>90</td>\n",
       "      <td>42</td>\n",
       "      <td>43</td>\n",
       "      <td>20.879744</td>\n",
       "      <td>82.002744</td>\n",
       "      <td>6.502985</td>\n",
       "      <td>202.935536</td>\n",
       "      <td>rice</td>\n",
       "    </tr>\n",
       "    <tr>\n",
       "      <th>1</th>\n",
       "      <td>85</td>\n",
       "      <td>58</td>\n",
       "      <td>41</td>\n",
       "      <td>21.770462</td>\n",
       "      <td>80.319644</td>\n",
       "      <td>7.038096</td>\n",
       "      <td>226.655537</td>\n",
       "      <td>rice</td>\n",
       "    </tr>\n",
       "    <tr>\n",
       "      <th>2</th>\n",
       "      <td>60</td>\n",
       "      <td>55</td>\n",
       "      <td>44</td>\n",
       "      <td>23.004459</td>\n",
       "      <td>82.320763</td>\n",
       "      <td>7.840207</td>\n",
       "      <td>263.964248</td>\n",
       "      <td>rice</td>\n",
       "    </tr>\n",
       "    <tr>\n",
       "      <th>3</th>\n",
       "      <td>74</td>\n",
       "      <td>35</td>\n",
       "      <td>40</td>\n",
       "      <td>26.491096</td>\n",
       "      <td>80.158363</td>\n",
       "      <td>6.980401</td>\n",
       "      <td>242.864034</td>\n",
       "      <td>rice</td>\n",
       "    </tr>\n",
       "    <tr>\n",
       "      <th>4</th>\n",
       "      <td>78</td>\n",
       "      <td>42</td>\n",
       "      <td>42</td>\n",
       "      <td>20.130175</td>\n",
       "      <td>81.604873</td>\n",
       "      <td>7.628473</td>\n",
       "      <td>262.717340</td>\n",
       "      <td>rice</td>\n",
       "    </tr>\n",
       "  </tbody>\n",
       "</table>\n",
       "</div>"
      ],
      "text/plain": [
       "   Nitrogen  Phosphorous  Potassium  temperature   humidity        ph  \\\n",
       "0        90           42         43    20.879744  82.002744  6.502985   \n",
       "1        85           58         41    21.770462  80.319644  7.038096   \n",
       "2        60           55         44    23.004459  82.320763  7.840207   \n",
       "3        74           35         40    26.491096  80.158363  6.980401   \n",
       "4        78           42         42    20.130175  81.604873  7.628473   \n",
       "\n",
       "     rainfall label  \n",
       "0  202.935536  rice  \n",
       "1  226.655537  rice  \n",
       "2  263.964248  rice  \n",
       "3  242.864034  rice  \n",
       "4  262.717340  rice  "
      ]
     },
     "execution_count": 15,
     "metadata": {},
     "output_type": "execute_result"
    }
   ],
   "source": [
    "df.head()"
   ]
  },
  {
   "cell_type": "code",
   "execution_count": 16,
   "id": "c42f013b",
   "metadata": {},
   "outputs": [
    {
     "data": {
      "application/vnd.jupyter.widget-view+json": {
       "model_id": "28d41f8e5eb443939f1e916257f2c500",
       "version_major": 2,
       "version_minor": 0
      },
      "text/plain": [
       "interactive(children=(Dropdown(description='conditions', options=('Nitrogen', 'Phosphorous', 'Potassium', 'tem…"
      ]
     },
     "metadata": {},
     "output_type": "display_data"
    }
   ],
   "source": [
    "@interact\n",
    "def compare (conditions = ['Nitrogen','Phosphorous','Potassium','temperature','ph','humidity','rainfall']):\n",
    "    print(\"Average Value for\",conditions,\"is {0:.2f}\".format(df[conditions].mean()))\n",
    "    print(\"-------------------------------------------------------------------------\")\n",
    "    print(\"Rice : {0:.2f}\".format(df[(df['label'] == 'rice')][conditions].mean()))\n",
    "    print(\"Maize : {0:.2f}\".format(df[(df['label'] == 'maize')][conditions].mean()))\n",
    "    print(\"Jute : {0:.2f}\".format(df[(df['label'] == 'jute')][conditions].mean()))\n",
    "    print(\"Cotton : {0:.2f}\".format(df[(df['label'] == 'cotton')][conditions].mean()))\n",
    "    print(\"Coconut :{0:.2f}\".format(df[(df['label'] == 'coconut')][conditions].mean()))\n",
    "    print(\"Papaya :{0:.2f}\".format(df[(df['label'] == 'papaya')][conditions].mean()))\n",
    "    print(\"Orange :{0:.2f}\".format(df[(df['label'] == 'orange')][conditions].mean()))\n",
    "    print(\"Apple :{0:.2f}\".format(df[(df['label'] == 'apple')][conditions].mean()))\n",
    "    print(\"Muskmelon :{0:.2f}\".format(df[(df['label'] =='muskmelon')][conditions].mean()))\n",
    "    print(\"Watermelon:{0:.2f}\".format(df[(df['label'] =='watermelon')][conditions].mean()))\n",
    "    print(\"Grapes:{0:.2f}\".format(df[(df['label'] =='grapes')][conditions].mean()))\n",
    "    print(\"Mango:{0:.2f}\".format(df[(df['label']=='mango')][conditions].mean()))\n",
    "    print(\"Banana:{0:.2f}\".format(df[(df['label']=='banana')][conditions].mean()))\n",
    "    print(\"Pomegranate :{0:.2f}\".format(df[(df['label']=='pomegranate')][conditions].mean()))\n",
    "    print(\"Lentil :{0:.2f}\".format(df[(df['label']=='lentil')][conditions].mean()))\n",
    "    print(\"Blackgram:{0:.2f}\".format(df[(df['label']=='blackgram')][conditions].mean()))\n",
    "    print(\"Mungbean:{0:.2f}\".format(df[(df['label']== 'mungbean')][conditions].mean()))\n",
    "    print(\"Mothbeans:{0:.2f}\".format(df[(df['label']=='mothbeans')][conditions].mean()))\n",
    "    print(\"Pigeonpeas:{0:.2f}\".format(df[(df['label']=='pigeonbeans')][conditions].mean()))\n",
    "    print(\"Kidneybeans:{0:.2f}\".format(df[(df['label']=='kidneybeans')][conditions].mean()))\n",
    "    print(\"Chickpea:{0:.2f}\".format(df[(df['label']=='chickpea')][conditions].mean()))\n",
    "    print(\"Coffee:{0:.2f}\".format(df[(df['label']=='coffee')][conditions].mean()))"
   ]
  },
  {
   "cell_type": "code",
   "execution_count": 18,
   "id": "cd0e06a1",
   "metadata": {},
   "outputs": [
    {
     "data": {
      "application/vnd.jupyter.widget-view+json": {
       "model_id": "5b59f1fcb3964e57b7459fdf13a7382f",
       "version_major": 2,
       "version_minor": 0
      },
      "text/plain": [
       "interactive(children=(Dropdown(description='conditions', options=('Nitrogen', 'Phosphorous', 'Potassium', 'tem…"
      ]
     },
     "metadata": {},
     "output_type": "display_data"
    }
   ],
   "source": [
    "@interact\n",
    "def compare(conditions = ['Nitrogen','Phosphorous','Potassium','temperature','ph','humidity','rainfall']):\n",
    "    print(\"Crops which required greater than average\",conditions,'\\n')\n",
    "    print(df[df[conditions] > df[conditions].mean()]['label'].unique())\n",
    "    print(\"---------------------------------------------------------------------------\")\n",
    "    print(\"Crops which required less than average\",conditions,'\\n')\n",
    "    print(df[df[conditions] <= df[conditions].mean()]['label'].unique())"
   ]
  },
  {
   "cell_type": "code",
   "execution_count": 20,
   "id": "07e8654b",
   "metadata": {},
   "outputs": [
    {
     "data": {
      "image/png": "[encoded data removed]",
      "text/plain": [
       "<Figure size 2016x504 with 7 Axes>"
      ]
     },
     "metadata": {
      "needs_background": "light"
     },
     "output_type": "display_data"
    }
   ],
   "source": [
    "plt.figure(figsize=(28,7))\n",
    "plt.subplot(2,4,1)\n",
    "sb.distplot(df['Nitrogen'], color='orange')\n",
    "plt.xlabel('Ratio of Nitrogen',fontsize=12)\n",
    "plt.grid()\n",
    "\n",
    "\n",
    "#plt.figure(figsize=(28,7))\n",
    "plt.subplot(2,4,2)\n",
    "sb.distplot(df['Phosphorous'], color='red')\n",
    "plt.xlabel('Ratio of Phosphorous',fontsize=12)\n",
    "plt.grid()\n",
    "\n",
    "plt.subplot(2,4,3)\n",
    "sb.distplot(df['Potassium'],color='blue')\n",
    "plt.xlabel('Ratio of Potassium', fontsize=12)\n",
    "plt.grid()\n",
    "\n",
    "\n",
    "plt.subplot(2,4,4)\n",
    "sb.distplot(df['temperature'],color='purple')\n",
    "plt.xlabel('Ratio of Temperature' , fontsize=12)\n",
    "plt.grid()\n",
    "\n",
    "plt.subplot(2,4,5)\n",
    "sb.distplot(df['humidity'] , color='green')\n",
    "plt.xlabel('Ratio of Humidity', fontsize=12)\n",
    "plt.grid()\n",
    "\n",
    "plt.subplot(2,4,6)\n",
    "sb.distplot(df['ph'], color='pink')\n",
    "plt.xlabel('Ratio of PhScale', fontsize=12)\n",
    "plt.grid()\n",
    "\n",
    "\n",
    "plt.subplot(2,4,7)\n",
    "sb.distplot(df['rainfall'], color='violet')\n",
    "plt.xlabel('Ratio of Rainfall', fontsize=12)\n",
    "plt.grid()"
   ]
  },
  {
   "cell_type": "markdown",
   "id": "eea3e0ac",
   "metadata": {},
   "source": [
    "## Which are the crops that we can grow even in flame or high temperature?"
   ]
  },
  {
   "cell_type": "code",
   "execution_count": 24,
   "id": "6e46840b",
   "metadata": {},
   "outputs": [
    {
     "name": "stdout",
     "output_type": "stream",
     "text": [
      " Such crops that we can grow even in low/high temperature\n",
      "---------------------------------------------------------------\n",
      "Crops which requires very High Ratio of Nitrogen Content  in Soil : ['cotton']\n",
      "Crops which requires very High Ratio of Phosphorous Content in soil : ['grapes' 'apple']\n",
      "Crops which requires very High Ratio of Potsssium content in soil : ['grapes' 'apple']\n",
      "Crops which requires very High Rainfall : ['rice' 'papaya' 'coconut']\n",
      "Crops which requires very low Temperature : ['grapes']\n",
      "Crops which requires very high Temperature : ['grapes' 'papaya']\n",
      "Crops which requires very low Humidity : ['chickpea' 'kidneybeans']\n",
      "Crops which requires very low pH :  ['mothbeans']\n",
      "crops which requires very high pH : ['mothbeans']\n"
     ]
    }
   ],
   "source": [
    "print(\" Such crops that we can grow even in low/high temperature\")\n",
    "print(\"---------------------------------------------------------------\")\n",
    "print(\"Crops which requires very High Ratio of Nitrogen Content  in Soil :\",df[df['Nitrogen']>120]['label'].unique())\n",
    "print(\"Crops which requires very High Ratio of Phosphorous Content in soil :\",df[df['Phosphorous']>100]['label'].unique())\n",
    "print(\"Crops which requires very High Ratio of Potsssium content in soil :\",df[df['Potassium']>200]['label'].unique())\n",
    "print(\"Crops which requires very High Rainfall :\",df[df['rainfall']>200]['label'].unique())\n",
    "print(\"Crops which requires very low Temperature :\",df[df['temperature']<10]['label'].unique())\n",
    "print(\"Crops which requires very high Temperature :\",df[df['temperature']>40]['label'].unique())\n",
    "print(\"Crops which requires very low Humidity :\",df[df['humidity']<20]['label'].unique())\n",
    "print(\"Crops which requires very low pH : \",df[df['ph']<4]['label'].unique())\n",
    "print(\"crops which requires very high pH :\",df[df['ph']>9]['label'].unique())"
   ]
  },
  {
   "cell_type": "code",
   "execution_count": 27,
   "id": "ebd684dd",
   "metadata": {},
   "outputs": [
    {
     "name": "stdout",
     "output_type": "stream",
     "text": [
      "Summer Crops\n",
      "['pigeonpeas' 'mothbeans' 'blackgram' 'mango' 'grapes' 'orange' 'papaya']\n",
      "------------------------------------------------------------------------\n",
      "Winter Crops\n",
      "['maize' 'pigeonpeas' 'lentil' 'pomegranate' 'grapes' 'orange']\n",
      "-----------------------------------------------------------------\n",
      "Monsoon Crops\n",
      "['rice' 'papaya' 'coconut']\n"
     ]
    }
   ],
   "source": [
    "print(\"Summer Crops\")\n",
    "print(df[(df['temperature']>30) & (df['humidity']>50)]['label'].unique())\n",
    "print(\"------------------------------------------------------------------------\")\n",
    "print(\"Winter Crops\")\n",
    "print(df[(df['temperature']<20) & (df['humidity']>30)]['label'].unique())\n",
    "print(\"-----------------------------------------------------------------\")\n",
    "print(\"Monsoon Crops\")\n",
    "print(df[(df['rainfall']>200) & (df['humidity']>30)]['label'].unique())"
   ]
  },
  {
   "cell_type": "markdown",
   "id": "b5fad029",
   "metadata": {},
   "source": [
    "# Clustering"
   ]
  },
  {
   "cell_type": "code",
   "execution_count": 28,
   "id": "4dcc0fce",
   "metadata": {},
   "outputs": [],
   "source": [
    "from sklearn.cluster import KMeans"
   ]
  },
  {
   "cell_type": "code",
   "execution_count": 29,
   "id": "58335570",
   "metadata": {},
   "outputs": [],
   "source": [
    "x=df.drop(['label'],axis=1)"
   ]
  },
  {
   "cell_type": "code",
   "execution_count": 30,
   "id": "ec657114",
   "metadata": {},
   "outputs": [
    {
     "name": "stdout",
     "output_type": "stream",
     "text": [
      "(2200, 7)\n"
     ]
    }
   ],
   "source": [
    "x=x.values\n",
    "print(x.shape)"
   ]
  },
  {
   "cell_type": "markdown",
   "id": "6d3f4c7f",
   "metadata": {},
   "source": [
    "## Using Elbow Algorithm to find the optimum number of Clusters required"
   ]
  },
  {
   "cell_type": "code",
   "execution_count": 31,
   "id": "b4296753",
   "metadata": {},
   "outputs": [
    {
     "data": {
      "image/png": "[encoded data removed]",
      "text/plain": [
       "<Figure size 720x288 with 1 Axes>"
      ]
     },
     "metadata": {
      "needs_background": "light"
     },
     "output_type": "display_data"
    }
   ],
   "source": [
    "plt.rcParams['figure.figsize']=(10,4)\n",
    "\n",
    "wcss=[]\n",
    "\n",
    "for i in range(1,11):\n",
    "    km=KMeans(n_clusters=i,init = 'k-means++',max_iter=300, n_init=10,random_state =0)\n",
    "    km.fit(x)\n",
    "    wcss.append(km.inertia_)\n",
    "\n",
    "    \n",
    "#lets plot the results\n",
    "plt.plot(range(1,11),wcss)\n",
    "plt.title('The Elbow Method',fontsize=20)\n",
    "plt.xlabel('No of Clusters')\n",
    "plt.ylabel(\"wcss\")\n",
    "plt.show()"
   ]
  },
  {
   "cell_type": "code",
   "execution_count": 32,
   "id": "89e26034",
   "metadata": {},
   "outputs": [
    {
     "name": "stdout",
     "output_type": "stream",
     "text": [
      " Lets check the Results After Applying the K Means Clustering Analysis \n",
      "\n",
      "Crops in First Cluster: ['maize' 'chickpea' 'kidneybeans' 'pigeonpeas' 'mothbeans' 'mungbean'\n",
      " 'blackgram' 'lentil' 'pomegranate' 'mango' 'orange' 'papaya' 'coconut']\n",
      "--------------------------------------------------------------\n",
      " Crops in Second cluster: ['maize' 'banana' 'watermelon' 'muskmelon' 'papaya' 'cotton' 'coffee']\n",
      "---------------------------------------------------------------\n",
      "Crops in Third cluster: ['grapes' 'apple']\n",
      "----------------------------------------------------------------\n",
      "Crops in Forth Cluster: ['rice' 'pigeonpeas' 'papaya' 'coconut' 'jute' 'coffee']\n"
     ]
    }
   ],
   "source": [
    "km = KMeans(n_clusters=4,init='k-means++',max_iter = 300,n_init=10,random_state=0)\n",
    "y_means =km.fit_predict(x)\n",
    "\n",
    "#Lets find out the Result\n",
    "a=df['label']\n",
    "y_means=pd.DataFrame(y_means)\n",
    "z=pd.concat([y_means,a],axis=1)\n",
    "z=z.rename(columns={0:'cluster'})\n",
    "\n",
    "# let check the Cluster  of each Crops\n",
    "print(\" Lets check the Results After Applying the K Means Clustering Analysis \\n\")\n",
    "print(\"Crops in First Cluster:\", z[z['cluster']==0]['label'].unique())\n",
    "print(\"--------------------------------------------------------------\")\n",
    "print(\" Crops in Second cluster:\", z[z['cluster']==1]['label'].unique())\n",
    "print('---------------------------------------------------------------')\n",
    "print(\"Crops in Third cluster:\", z[z['cluster'] ==2]['label'].unique())\n",
    "print(\"----------------------------------------------------------------\")\n",
    "print(\"Crops in Forth Cluster:\",z[z['cluster']==3]['label'].unique())"
   ]
  },
  {
   "cell_type": "markdown",
   "id": "103503f9",
   "metadata": {},
   "source": [
    "## training"
   ]
  },
  {
   "cell_type": "code",
   "execution_count": 33,
   "id": "bb6681ef",
   "metadata": {},
   "outputs": [
    {
     "name": "stdout",
     "output_type": "stream",
     "text": [
      "Shape of x: (2200, 7)\n",
      "Shape of y: (2200,)\n"
     ]
    }
   ],
   "source": [
    "y=df['label'] #storing label in y variable\n",
    "x=df.drop(['label'],axis=1)\n",
    "print(\"Shape of x:\",x.shape)\n",
    "print(\"Shape of y:\",y.shape)"
   ]
  },
  {
   "cell_type": "markdown",
   "id": "ed448288",
   "metadata": {},
   "source": [
    "## divide the data into two sets; train_data & test_data"
   ]
  },
  {
   "cell_type": "code",
   "execution_count": 34,
   "id": "353e581d",
   "metadata": {},
   "outputs": [
    {
     "name": "stdout",
     "output_type": "stream",
     "text": [
      "The Shape of x train: (1760, 7)\n",
      "The Shape of x test: (440, 7)\n",
      "The Shape of y train: (1760,)\n",
      "The Shape of y test: (440,)\n"
     ]
    }
   ],
   "source": [
    "from sklearn.model_selection import train_test_split\n",
    "\n",
    "x_train,x_test,y_train,y_test=train_test_split(x,y,test_size=0.2,random_state=0)\n",
    "\n",
    "print(\"The Shape of x train:\",x_train.shape)\n",
    "print(\"The Shape of x test:\",x_test.shape)\n",
    "print(\"The Shape of y train:\",y_train.shape)\n",
    "print(\"The Shape of y test:\",y_test.shape)"
   ]
  },
  {
   "cell_type": "markdown",
   "id": "8558cb43",
   "metadata": {},
   "source": [
    "## Model Predictor"
   ]
  },
  {
   "cell_type": "code",
   "execution_count": 35,
   "id": "c72f7e76",
   "metadata": {},
   "outputs": [],
   "source": [
    "from sklearn.linear_model import LogisticRegression\n",
    "\n",
    "model = LogisticRegression(solver='liblinear')\n",
    "model=model.fit(x_train,y_train)\n",
    "y_pred=model.predict(x_test)"
   ]
  },
  {
   "cell_type": "code",
   "execution_count": 36,
   "id": "59e78f00",
   "metadata": {},
   "outputs": [],
   "source": [
    "from sklearn.metrics import confusion_matrix"
   ]
  },
  {
   "cell_type": "code",
   "execution_count": 40,
   "id": "d15836e6",
   "metadata": {},
   "outputs": [
    {
     "data": {
      "image/png": "[encoded data removed]",
      "text/plain": [
       "<Figure size 720x720 with 2 Axes>"
      ]
     },
     "metadata": {
      "needs_background": "light"
     },
     "output_type": "display_data"
    }
   ],
   "source": [
    "plt.rcParams['figure.figsize']=(10,10)\n",
    "cm = confusion_matrix(y_test, y_pred)\n",
    "sb.heatmap(cm, annot =True, cmap ='Blues')\n",
    "plt.title(\"Confusion Matrix for Logistic Regression\",fontsize = 15)\n",
    "plt.show()"
   ]
  },
  {
   "cell_type": "code",
   "execution_count": 41,
   "id": "9efea4ca",
   "metadata": {},
   "outputs": [
    {
     "name": "stdout",
     "output_type": "stream",
     "text": [
      "              precision    recall  f1-score   support\n",
      "\n",
      "       apple       1.00      1.00      1.00        18\n",
      "      banana       1.00      0.94      0.97        18\n",
      "   blackgram       0.88      1.00      0.94        22\n",
      "    chickpea       1.00      1.00      1.00        23\n",
      "     coconut       1.00      1.00      1.00        15\n",
      "      coffee       1.00      1.00      1.00        17\n",
      "      cotton       0.89      1.00      0.94        16\n",
      "      grapes       1.00      1.00      1.00        18\n",
      "        jute       0.86      0.86      0.86        21\n",
      " kidneybeans       0.95      1.00      0.98        20\n",
      "      lentil       1.00      0.88      0.94        17\n",
      "       maize       1.00      0.89      0.94        18\n",
      "       mango       1.00      1.00      1.00        21\n",
      "   mothbeans       1.00      0.84      0.91        25\n",
      "    mungbean       0.94      1.00      0.97        17\n",
      "   muskmelon       1.00      1.00      1.00        23\n",
      "      orange       1.00      1.00      1.00        23\n",
      "      papaya       0.87      0.95      0.91        21\n",
      "  pigeonpeas       0.95      0.95      0.95        22\n",
      " pomegranate       1.00      1.00      1.00        23\n",
      "        rice       0.88      0.88      0.88        25\n",
      "  watermelon       1.00      1.00      1.00        17\n",
      "\n",
      "    accuracy                           0.96       440\n",
      "   macro avg       0.96      0.96      0.96       440\n",
      "weighted avg       0.96      0.96      0.96       440\n",
      "\n"
     ]
    }
   ],
   "source": [
    "# To print the Classification Report also\n",
    "from sklearn.metrics import classification_report\n",
    "cr=classification_report(y_test,y_pred)\n",
    "print(cr)\n"
   ]
  },
  {
   "cell_type": "code",
   "execution_count": 42,
   "id": "65f7b665",
   "metadata": {},
   "outputs": [
    {
     "data": {
      "text/html": [
       "<div>\n",
       "<style scoped>\n",
       "    .dataframe tbody tr th:only-of-type {\n",
       "        vertical-align: middle;\n",
       "    }\n",
       "\n",
       "    .dataframe tbody tr th {\n",
       "        vertical-align: top;\n",
       "    }\n",
       "\n",
       "    .dataframe thead th {\n",
       "        text-align: right;\n",
       "    }\n",
       "</style>\n",
       "<table border=\"1\" class=\"dataframe\">\n",
       "  <thead>\n",
       "    <tr style=\"text-align: right;\">\n",
       "      <th></th>\n",
       "      <th>Nitrogen</th>\n",
       "      <th>Phosphorous</th>\n",
       "      <th>Potassium</th>\n",
       "      <th>temperature</th>\n",
       "      <th>humidity</th>\n",
       "      <th>ph</th>\n",
       "      <th>rainfall</th>\n",
       "      <th>label</th>\n",
       "    </tr>\n",
       "  </thead>\n",
       "  <tbody>\n",
       "    <tr>\n",
       "      <th>0</th>\n",
       "      <td>90</td>\n",
       "      <td>42</td>\n",
       "      <td>43</td>\n",
       "      <td>20.879744</td>\n",
       "      <td>82.002744</td>\n",
       "      <td>6.502985</td>\n",
       "      <td>202.935536</td>\n",
       "      <td>rice</td>\n",
       "    </tr>\n",
       "    <tr>\n",
       "      <th>1</th>\n",
       "      <td>85</td>\n",
       "      <td>58</td>\n",
       "      <td>41</td>\n",
       "      <td>21.770462</td>\n",
       "      <td>80.319644</td>\n",
       "      <td>7.038096</td>\n",
       "      <td>226.655537</td>\n",
       "      <td>rice</td>\n",
       "    </tr>\n",
       "    <tr>\n",
       "      <th>2</th>\n",
       "      <td>60</td>\n",
       "      <td>55</td>\n",
       "      <td>44</td>\n",
       "      <td>23.004459</td>\n",
       "      <td>82.320763</td>\n",
       "      <td>7.840207</td>\n",
       "      <td>263.964248</td>\n",
       "      <td>rice</td>\n",
       "    </tr>\n",
       "    <tr>\n",
       "      <th>3</th>\n",
       "      <td>74</td>\n",
       "      <td>35</td>\n",
       "      <td>40</td>\n",
       "      <td>26.491096</td>\n",
       "      <td>80.158363</td>\n",
       "      <td>6.980401</td>\n",
       "      <td>242.864034</td>\n",
       "      <td>rice</td>\n",
       "    </tr>\n",
       "    <tr>\n",
       "      <th>4</th>\n",
       "      <td>78</td>\n",
       "      <td>42</td>\n",
       "      <td>42</td>\n",
       "      <td>20.130175</td>\n",
       "      <td>81.604873</td>\n",
       "      <td>7.628473</td>\n",
       "      <td>262.717340</td>\n",
       "      <td>rice</td>\n",
       "    </tr>\n",
       "  </tbody>\n",
       "</table>\n",
       "</div>"
      ],
      "text/plain": [
       "   Nitrogen  Phosphorous  Potassium  temperature   humidity        ph  \\\n",
       "0        90           42         43    20.879744  82.002744  6.502985   \n",
       "1        85           58         41    21.770462  80.319644  7.038096   \n",
       "2        60           55         44    23.004459  82.320763  7.840207   \n",
       "3        74           35         40    26.491096  80.158363  6.980401   \n",
       "4        78           42         42    20.130175  81.604873  7.628473   \n",
       "\n",
       "     rainfall label  \n",
       "0  202.935536  rice  \n",
       "1  226.655537  rice  \n",
       "2  263.964248  rice  \n",
       "3  242.864034  rice  \n",
       "4  262.717340  rice  "
      ]
     },
     "execution_count": 42,
     "metadata": {},
     "output_type": "execute_result"
    }
   ],
   "source": [
    "df.head()"
   ]
  },
  {
   "cell_type": "markdown",
   "id": "8d62f3b8",
   "metadata": {},
   "source": [
    "# Output"
   ]
  },
  {
   "cell_type": "code",
   "execution_count": 48,
   "id": "ce255ae2",
   "metadata": {},
   "outputs": [
    {
     "name": "stdout",
     "output_type": "stream",
     "text": [
      "Suggested Crop is :  ['maize']\n"
     ]
    }
   ],
   "source": [
    "prediction=model.predict((np.array([[50,50,10,22,80,7,100]])))\n",
    "print(\"Suggested Crop is : \",prediction)"
   ]
  },
  {
   "cell_type": "code",
   "execution_count": null,
   "id": "0a711228",
   "metadata": {},
   "outputs": [],
   "source": []
  }
 ],
 "metadata": {
  "kernelspec": {
   "display_name": "Python 3 (ipykernel)",
   "language": "python",
   "name": "python3"
  },
  "language_info": {
   "codemirror_mode": {
    "name": "ipython",
    "version": 3
   },
   "file_extension": ".py",
   "mimetype": "text/x-python",
   "name": "python",
   "nbconvert_exporter": "python",
   "pygments_lexer": "ipython3",
   "version": "3.9.12"
  }
 },
 "nbformat": 4,
 "nbformat_minor": 5
}
